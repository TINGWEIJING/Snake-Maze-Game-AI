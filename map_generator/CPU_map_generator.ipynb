{
 "cells": [
  {
   "attachments": {},
   "cell_type": "markdown",
   "metadata": {},
   "source": [
    "# Coordinate Pair-Up Map Generator"
   ]
  },
  {
   "cell_type": "code",
   "execution_count": 27,
   "metadata": {},
   "outputs": [],
   "source": [
    "import math\n",
    "import random\n",
    "\n",
    "import cv2\n",
    "import numpy as np\n",
    "from matplotlib import pyplot as plt\n",
    "\n",
    "from helper import evaluate_map, generate_init_map, output_map_file, plot_map\n",
    "\n",
    "# initialize map\n",
    "rng_seed = 12345 # ! Seed\n",
    "map_height = 100\n",
    "map_width = map_height\n",
    "\n",
    "init_map_np = generate_init_map(map_height=map_height, map_width=map_width)\n",
    "rng = np.random.default_rng(rng_seed)"
   ]
  },
  {
   "cell_type": "code",
   "execution_count": 28,
   "metadata": {},
   "outputs": [],
   "source": [
    "def compute_wall_direction_1(x_coor, y_coor, x_distance, y_distance, map, dir):\n",
    "    temp_list = []\n",
    "    if dir == 0: # go horizontal first\n",
    "        map[ y_coor , x_coor + x_distance : x_coor+1] = 1\n",
    "        map[ y_coor:y_coor + y_distance+1, x_coor + x_distance] = 1\n",
    "\n",
    "    elif dir == 1: # go vertical first\n",
    "        map[ y_coor: y_coor + y_distance+1,x_coor] = 1\n",
    "        map[ y_coor+ y_distance, x_coor + x_distance : x_coor+1] = 1\n",
    "    \n",
    "    elif dir == 2: # go horizontal first\n",
    "        map[ y_coor, x_coor + x_distance: x_coor+1] = 1\n",
    "        map[ y_coor + y_distance : y_coor+1, x_coor + x_distance] = 1\n",
    "         \n",
    "    elif dir == 3: # go vertical first\n",
    "        map[ y_coor + y_distance : y_coor+1, x_coor] = 1\n",
    "        map[y_coor + y_distance, x_coor + x_distance: x_coor+1] = 1\n",
    "    return map\n",
    "\n",
    "def compute_wall_direction_2(x_coor, y_coor, x_distance, y_distance, map, dir):\n",
    "    if dir == 0: # go horizontal first\n",
    "        map[ y_coor , x_coor:x_coor + x_distance+1] = 1\n",
    "        map[ y_coor:y_coor + y_distance+1, x_coor + x_distance] = 1\n",
    "\n",
    "    elif dir == 1: # go vertical first\n",
    "        map[ y_coor: y_coor + y_distance+1,x_coor] = 1\n",
    "        map[ y_coor+ y_distance, x_coor: x_coor + x_distance+1] = 1\n",
    "    \n",
    "    elif dir == 2: # go horizontal first\n",
    "        map[ y_coor, x_coor : x_coor+ x_distance+1] = 1\n",
    "        map[ y_coor + y_distance : y_coor+1, x_coor + x_distance] = 1\n",
    "         \n",
    "    elif dir == 3: # go vertical first\n",
    "        map[ y_coor + y_distance +1 : y_coor, x_coor] = 1\n",
    "        map[y_coor + y_distance, x_coor: x_coor + x_distance+1] = 1\n",
    "    return map\n",
    "\n",
    "def smooth_map(map_np):\n",
    "    filter = np.array([1, 0, 1])\n",
    "    filter2 = np.array([[1], [0], [1]])\n",
    "    filter3 = np.array([[1], [0], [1]])\n",
    "    for i in range(map_np.shape[0]):\n",
    "        for j in range(map_np.shape[1]):\n",
    "            if map_np[i][j] == 0:\n",
    "                hor_array = map_np[i, j-1:j+2]\n",
    "                ver_array = map_np[i-1:i+2, j]\n",
    "\n",
    "                if np.array_equiv(hor_array, filter) or np.array_equiv(ver_array, filter):\n",
    "                    map_np[i][j] = 1\n",
    "                # value = np.sum(new_array)\n",
    "                # if value > 1:\n",
    "                #     map_np[i][j] = 1\n",
    "                    # print(new_array,value)\n",
    "    return map_np\n",
    "\n",
    "def fill_box(map: np.ndarray):\n",
    "    map = map.astype(np.uint8)*255\n",
    "    contours = cv2.findContours(map, cv2.RETR_EXTERNAL, cv2.CHAIN_APPROX_SIMPLE)[0]\n",
    "    for c in contours:\n",
    "        cv2.drawContours(map, [c], 0, (255, 255, 255), -1)\n",
    "    map = map.astype(np.uint8)/255\n",
    "    return map\n"
   ]
  },
  {
   "cell_type": "code",
   "execution_count": 29,
   "metadata": {},
   "outputs": [],
   "source": [
    "# map generation\n",
    "map_np = init_map_np.copy()\n",
    "random_size = 60\n",
    "while True:\n",
    "    wall_count = rng.integers(200, 250) #generate random wall number\n",
    "    if wall_count % 2 == 0: # make sure those number is even number\n",
    "        break\n",
    "\n",
    "count = 0\n",
    "x_coordinate = []\n",
    "y_coordinate = []\n",
    "wall_coordinate = []\n",
    "rng.integers(low=1, high=map_height-1, size=(random_size))\n",
    "\n",
    "#store all wall coordinates in a list\n",
    "while (count < wall_count):\n",
    "    wall_coordinate.append((rng.integers(low=1, high=map_width-1),rng.integers(low=1, high=map_height-1)))\n",
    "    map_np[wall_coordinate[count]] = 1\n",
    "    count += 1\n",
    "\n",
    "#sort the coordinates x,y\n",
    "wall_coordinate = sorted(wall_coordinate, key=lambda k: [k[1], k[0]])\n",
    "paired_coordinate = []\n",
    "\n",
    "#find the closest point for each coordinate and make them into pairs\n",
    "while len(wall_coordinate) > 0:\n",
    "    first_coordinate = wall_coordinate.pop(0)\n",
    "    min_coordinate_index = 0\n",
    "    for count, item in enumerate(wall_coordinate):\n",
    "        if count == 0:\n",
    "            continue\n",
    "        cur_coordinate = wall_coordinate[count]\n",
    "        cur_coordinate_distance = math.dist(\n",
    "                    first_coordinate,\n",
    "                    cur_coordinate)\n",
    "        if count == 1 or cur_coordinate_distance <= min_coordinate_distance:            \n",
    "            min_coordinate_distance = cur_coordinate_distance\n",
    "            min_coordinate_index = count\n",
    "\n",
    "    paired_coordinate.append(first_coordinate)\n",
    "    paired_coordinate.append(wall_coordinate[min_coordinate_index])\n",
    "    wall_coordinate.pop(min_coordinate_index)\n",
    "\n",
    "paired_coordinate_copy = paired_coordinate.copy()\n",
    "\n",
    "#compute line between 2 coordinates\n",
    "while len(paired_coordinate_copy) > 0:\n",
    "    first_pair = paired_coordinate_copy.pop(0)\n",
    "    second_pair = paired_coordinate_copy.pop(0)\n",
    "    x_distance = second_pair[1] - first_pair[1]\n",
    "    y_distance = second_pair[0] - first_pair[0]\n",
    "    random_dir = random.randrange(0, 2)\n",
    "    #for 2 pairs, their position can seperate into 4 quadrants\n",
    "    '''\n",
    "    [[quadrants II, quadrants I],\n",
    "    [quadrants III, quadrants IV]]\n",
    "    '''\n",
    "    if x_distance < 0:\n",
    "        if y_distance > 0:\n",
    "            #quadrants II\n",
    "            map_np = compute_wall_direction_1(first_pair[1], first_pair[0], x_distance, y_distance, map_np, random_dir)\n",
    "        elif y_distance < 0:\n",
    "            #quadrants III\n",
    "            map_np = compute_wall_direction_1(first_pair[1], first_pair[0], x_distance, y_distance, map_np, random_dir+2)\n",
    "        else:\n",
    "            map_np[first_pair[0],second_pair[1] : first_pair[1]+1] = 1 #just draw line\n",
    "    elif x_distance > 0:\n",
    "        if y_distance > 0:\n",
    "            #quadrants I\n",
    "            map_np = compute_wall_direction_2(first_pair[1], first_pair[0], x_distance, y_distance, map_np, random_dir)\n",
    "        elif y_distance < 0:     \n",
    "            #quadrants IV   \n",
    "            map_np = compute_wall_direction_2(first_pair[1], first_pair[0], x_distance, y_distance, map_np, random_dir+2)            \n",
    "        else:\n",
    "            map_np[first_pair[0],first_pair[1] : second_pair[1]+1] = 1 #just draw line\n",
    "    else: #if x is in the same line\n",
    "        if y_distance < 0:\n",
    "            map_np[second_pair[0] : first_pair[0] +1,first_pair[1]] =1 #just draw line\n",
    "        else:            \n",
    "            map_np[first_pair[0] : second_pair[0] +1,first_pair[1]] = 1 #just draw line\n",
    "\n",
    "count = 0\n",
    "map_np = smooth_map(map_np) #close up those gap which is only 1 pixel\n",
    "#fill empty box\n",
    "for count in range(4):\n",
    "    if count == 0:\n",
    "        map_np[0:50,0:map_width] = fill_box(map_np[0:50,0:map_width])\n",
    "    if count == 1:\n",
    "        map_np[50:map_height,0:map_width] = fill_box(map_np[50:map_height,0:map_width])\n",
    "    if count == 2:\n",
    "        map_np[0:map_height,0:50] = fill_box(map_np[0:map_height,0:50])\n",
    "    if count == 3:\n",
    "        map_np[0:map_height,50:map_width] = fill_box(map_np[0:map_height,50:map_width])\n",
    "#check the whole map (except border) and fill empty box\n",
    "map_np[1:map_height-1,1:map_np.shape[1]-1] = fill_box(map_np[1:map_height-1,1:map_width-1])\n",
    "map_np[1:map_height-1,1:map_np.shape[1]-1] = fill_box(map_np[1:map_height-1,1:map_width-1])"
   ]
  },
  {
   "cell_type": "code",
   "execution_count": 30,
   "metadata": {},
   "outputs": [
    {
     "name": "stdout",
     "output_type": "stream",
     "text": [
      "Evaluation score is: 0.868\n"
     ]
    }
   ],
   "source": [
    "# evaluation\n",
    "avgCrossEntropy = evaluate_map(map_np=map_np)\n",
    "print(f\"Evaluation score is: {avgCrossEntropy:.3f}\")\n"
   ]
  },
  {
   "cell_type": "code",
   "execution_count": 31,
   "metadata": {},
   "outputs": [
    {
     "data": {
      "image/png": "[encoded data removed]",
      "text/plain": [
       "<Figure size 640x480 with 1 Axes>"
      ]
     },
     "metadata": {},
     "output_type": "display_data"
    }
   ],
   "source": [
    "# visualize the map\n",
    "plot_map(map_np=map_np, map_height=map_height,  map_width=map_width)"
   ]
  },
  {
   "cell_type": "code",
   "execution_count": 32,
   "metadata": {},
   "outputs": [],
   "source": [
    "# output map\n",
    "output_map_file(map_np=map_np, file_name=f'CPU_{rng_seed}.txt')\n"
   ]
  }
 ],
 "metadata": {
  "kernelspec": {
   "display_name": "venv",
   "language": "python",
   "name": "python3"
  },
  "language_info": {
   "codemirror_mode": {
    "name": "ipython",
    "version": 3
   },
   "file_extension": ".py",
   "mimetype": "text/x-python",
   "name": "python",
   "nbconvert_exporter": "python",
   "pygments_lexer": "ipython3",
   "version": "3.9.13"
  },
  "orig_nbformat": 4,
  "vscode": {
   "interpreter": {
    "hash": "18dfbb52722a191c5084d327a0c4297d5eab0f32edfc1954967f6b15fe93cd4c"
   }
  }
 },
 "nbformat": 4,
 "nbformat_minor": 2
}
