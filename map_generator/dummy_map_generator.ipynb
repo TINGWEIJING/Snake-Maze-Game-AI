{
 "cells": [
  {
   "attachments": {},
   "cell_type": "markdown",
   "metadata": {},
   "source": [
    "# Dummy Map Generator"
   ]
  },
  {
   "cell_type": "code",
   "execution_count": 6,
   "metadata": {},
   "outputs": [],
   "source": [
    "import numpy as np\n",
    "from matplotlib import pyplot as plt\n",
    "\n",
    "from helper import evaluate_map, generate_init_map, output_map_file, plot_map\n",
    "\n",
    "# initialize map\n",
    "rng_seed = 12345 # ! Seed\n",
    "map_height = 100\n",
    "map_width = map_height\n",
    "\n",
    "init_map_np = generate_init_map(map_height=map_height, map_width=map_width)\n",
    "rng = np.random.default_rng(rng_seed)"
   ]
  },
  {
   "cell_type": "code",
   "execution_count": 7,
   "metadata": {},
   "outputs": [],
   "source": [
    "# map generation\n",
    "map_np = init_map_np.copy()\n",
    "random_size = 60\n",
    "random_wall_y_np = rng.integers(low=1, high=map_height-1, size=(random_size))\n",
    "random_wall_x_np = rng.integers(low=1, high=map_width-1, size=(random_size))\n",
    "\n",
    "for i in range(random_wall_y_np.shape[0]):\n",
    "    map_np[random_wall_y_np[i], random_wall_x_np[i]] = 1\n"
   ]
  },
  {
   "cell_type": "code",
   "execution_count": 8,
   "metadata": {},
   "outputs": [
    {
     "name": "stdout",
     "output_type": "stream",
     "text": [
      "Evaluation score is: 1.800\n"
     ]
    }
   ],
   "source": [
    "# evaluation\n",
    "avgCrossEntropy = evaluate_map(map_np=map_np)\n",
    "print(f\"Evaluation score is: {avgCrossEntropy:.3f}\")"
   ]
  },
  {
   "cell_type": "code",
   "execution_count": 9,
   "metadata": {},
   "outputs": [
    {
     "data": {
      "image/png": "[encoded data removed]",
      "text/plain": [
       "<Figure size 640x480 with 1 Axes>"
      ]
     },
     "metadata": {},
     "output_type": "display_data"
    }
   ],
   "source": [
    "# visualize the map\n",
    "plot_map(map_np=map_np, map_height=map_height,  map_width=map_width)"
   ]
  },
  {
   "cell_type": "code",
   "execution_count": 10,
   "metadata": {},
   "outputs": [],
   "source": [
    "# output map\n",
    "output_map_file(map_np=map_np, file_name=f'dummy_{rng_seed}.txt')"
   ]
  }
 ],
 "metadata": {
  "kernelspec": {
   "display_name": "venv",
   "language": "python",
   "name": "python3"
  },
  "language_info": {
   "codemirror_mode": {
    "name": "ipython",
    "version": 3
   },
   "file_extension": ".py",
   "mimetype": "text/x-python",
   "name": "python",
   "nbconvert_exporter": "python",
   "pygments_lexer": "ipython3",
   "version": "3.9.13"
  },
  "orig_nbformat": 4,
  "vscode": {
   "interpreter": {
    "hash": "18dfbb52722a191c5084d327a0c4297d5eab0f32edfc1954967f6b15fe93cd4c"
   }
  }
 },
 "nbformat": 4,
 "nbformat_minor": 2
}
