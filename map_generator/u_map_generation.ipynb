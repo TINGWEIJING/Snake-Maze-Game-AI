{
 "cells": [
  {
   "cell_type": "code",
   "execution_count": 1,
   "metadata": {},
   "outputs": [],
   "source": [
    "from matplotlib import pyplot as plt\n",
    "import numpy as np"
   ]
  },
  {
   "cell_type": "code",
   "execution_count": 2,
   "metadata": {},
   "outputs": [],
   "source": [
    "CLR_MAP = {\n",
    "    0: (0, 0, 0),  # black, wall\n",
    "    1: (255, 255, 255),  # white, space/path\n",
    "    2: (237, 28, 36),  # red, src\n",
    "    3: (237, 28, 36),  # red, dest\n",
    "    4: (255, 201, 14),  # blue violet, room\n",
    "    5: (34, 177, 76),  # orange, route\n",
    "    6: (255, 105, 180),  # hot pink, alternate main route\n",
    "}\n",
    "\n",
    "# initialize map\n",
    "map_height = 100\n",
    "map_width = map_height\n",
    "\n",
    "# * height is y, width is x\n",
    "# * so map_np[y,x]\n",
    "# * origin point is at top left\n",
    "init_map_np = np.zeros((map_height, map_width), dtype=np.uint8)\n",
    "\n",
    "# border wall\n",
    "# top\n",
    "init_map_np[0, :] = 1\n",
    "# bottom\n",
    "init_map_np[map_height - 1, :] = 1\n",
    "# left\n",
    "init_map_np[:, 0] = 1\n",
    "# right\n",
    "init_map_np[:, map_width - 1] = 1"
   ]
  },
  {
   "cell_type": "code",
   "execution_count": 16,
   "metadata": {},
   "outputs": [],
   "source": [
    "# map generation\n",
    "map_np = init_map_np.copy()\n",
    "rng = np.random.default_rng(12345)\n",
    "\n",
    "partition_size = 7\n",
    "\n",
    "for bound_y in range(1, map_height - 1, partition_size):\n",
    "    for bound_x in range(1, map_width - 1, partition_size):\n",
    "        partition_np = map_np[bound_y:bound_y+partition_size, bound_x:bound_x+partition_size]\n",
    "        partition_np[1:6, 1] = 1\n",
    "        partition_np[1:6, 5] = 1\n",
    "        partition_np[1, 1:6] = 1\n",
    "        partition_np[5, 1:6] = 1"
   ]
  },
  {
   "cell_type": "code",
   "execution_count": 41,
   "metadata": {},
   "outputs": [],
   "source": [
    "# map generation\n",
    "map_np = init_map_np.copy()\n",
    "rng = np.random.default_rng(12345)\n",
    "\n",
    "partition_size = 7\n",
    "threshold = 5\n",
    "\n",
    "for bound_y in range(1, map_height - 1, partition_size):\n",
    "    for bound_x in range(1, map_width - 1, partition_size):\n",
    "        partition_np = map_np[bound_y:bound_y+partition_size, bound_x:bound_x+partition_size]\n",
    "        skip_idx = rng.integers(4)\n",
    "\n",
    "        if skip_idx != 0:\n",
    "            partition_np[1:partition_size - 1, 1] = 1\n",
    "        \n",
    "        if skip_idx != 1:\n",
    "            partition_np[1:partition_size - 1, partition_size - 2] = 1\n",
    "        \n",
    "        if skip_idx != 2:\n",
    "            partition_np[1, 1:partition_size - 1] = 1\n",
    "        \n",
    "        if skip_idx != 3:\n",
    "            partition_np[partition_size - 2, 1:partition_size - 1] = 1 \n",
    "\n",
    "# fill spawn area\n",
    "map_np[1:partition_size * 2, 1: partition_size * 2] = 0"
   ]
  },
  {
   "cell_type": "code",
   "execution_count": 42,
   "metadata": {},
   "outputs": [
    {
     "data": {
      "image/png": "[encoded data removed]",
      "text/plain": [
       "<Figure size 640x480 with 1 Axes>"
      ]
     },
     "metadata": {},
     "output_type": "display_data"
    }
   ],
   "source": [
    "# convert to RGB Map\n",
    "color_map_np = np.zeros((map_np.shape[0], map_np.shape[1], 3), dtype=np.uint8)\n",
    "\n",
    "for y in range(map_np.shape[0]):\n",
    "    for x in range(map_np.shape[1]):\n",
    "        color = CLR_MAP[map_np[y, x]]\n",
    "        color_map_np[y, x] = np.array(color)\n",
    "\n",
    "plt.figure(facecolor='black')\n",
    "plt.tight_layout()\n",
    "plt.axis(\"off\")   # turns off axes\n",
    "plt.axis(\"tight\")  # gets rid of white border\n",
    "plt.axis(\"image\")  # square up the image instead of filling the \"figure\" space\n",
    "plt.gca().set_axis_off()\n",
    "plt.subplots_adjust(top = 1, bottom = 0, right = 1, left = 0, \n",
    "            hspace = 0, wspace = 0)\n",
    "plt.margins(0,0)\n",
    "plt.gca().xaxis.set_major_locator(plt.NullLocator())\n",
    "plt.gca().yaxis.set_major_locator(plt.NullLocator())\n",
    "plt.xlim([-2, map_width + 1])\n",
    "plt.ylim([map_height + 1, -2])\n",
    "plt.imshow(color_map_np, interpolation='nearest')\n",
    "# plt.gcf().set_dpi(300)\n",
    "# plt.savefig(\"test.png\",bbox_inches='tight')\n",
    "plt.show()"
   ]
  },
  {
   "cell_type": "code",
   "execution_count": 9,
   "metadata": {},
   "outputs": [],
   "source": [
    "# output map\n",
    "# Writing to file\n",
    "with open(\"../map/u_map.txt\", \"w\") as file:\n",
    "    # Writing data to a file\n",
    "    for y in range(map_np.shape[0]):\n",
    "        # print(''.join(map(str,map_np[y, :].tolist())))\n",
    "        file.write(''.join(map(str,map_np[y, :].tolist()))+'\\n')\n"
   ]
  },
  {
   "cell_type": "code",
   "execution_count": 10,
   "metadata": {},
   "outputs": [
    {
     "name": "stdout",
     "output_type": "stream",
     "text": [
      "map_height: 100\n",
      "map_width: 100\n"
     ]
    }
   ],
   "source": [
    "with open(\"../map/u_map.txt\") as f:\n",
    "    lines = f.readlines()\n",
    "# check height & width\n",
    "map_height = len(lines)\n",
    "map_width = len(lines[0].strip())\n",
    "map_repr = [ [0]*map_width for _ in range(map_height) ]\n",
    "print(f\"map_height: {map_height}\")\n",
    "print(f\"map_width: {map_width }\")\n",
    "\n",
    "for y in range(len(lines)):\n",
    "    line = lines[y].strip()\n",
    "    for x in range(len(line)):\n",
    "        map_repr[y][x] = int(line[x])\n",
    "\n",
    "# print(map_repr)\n"
   ]
  }
 ],
 "metadata": {
  "kernelspec": {
   "display_name": "venv",
   "language": "python",
   "name": "python3"
  },
  "language_info": {
   "codemirror_mode": {
    "name": "ipython",
    "version": 3
   },
   "file_extension": ".py",
   "mimetype": "text/x-python",
   "name": "python",
   "nbconvert_exporter": "python",
   "pygments_lexer": "ipython3",
   "version": "3.8.10"
  },
  "orig_nbformat": 4,
  "vscode": {
   "interpreter": {
    "hash": "ba5cba18123ba0dd317429871b108ae9bd8d089388810e90817bad368e6254a1"
   }
  }
 },
 "nbformat": 4,
 "nbformat_minor": 2
}
