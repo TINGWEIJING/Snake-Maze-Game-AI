{
 "cells": [
  {
   "attachments": {},
   "cell_type": "markdown",
   "metadata": {},
   "source": [
    "# U Map Generator"
   ]
  },
  {
   "cell_type": "code",
   "execution_count": 11,
   "metadata": {},
   "outputs": [],
   "source": [
    "import numpy as np\n",
    "from matplotlib import pyplot as plt\n",
    "\n",
    "from helper import evaluate_map, generate_init_map, output_map_file, plot_map\n",
    "\n",
    "# initialize map\n",
    "rng_seed = 12345 # ! Seed\n",
    "map_height = 100\n",
    "map_width = map_height\n",
    "\n",
    "init_map_np = generate_init_map(map_height=map_height, map_width=map_width)\n",
    "rng = np.random.default_rng(rng_seed)"
   ]
  },
  {
   "cell_type": "code",
   "execution_count": 12,
   "metadata": {},
   "outputs": [],
   "source": [
    "# map generation\n",
    "map_np = init_map_np.copy()\n",
    "\n",
    "partition_size = 7\n",
    "threshold = 5\n",
    "\n",
    "for bound_y in range(1, map_height - 1, partition_size):\n",
    "    for bound_x in range(1, map_width - 1, partition_size):\n",
    "        partition_np = map_np[bound_y:bound_y+partition_size, bound_x:bound_x+partition_size]\n",
    "        skip_idx = rng.integers(4)\n",
    "\n",
    "        if skip_idx != 0:\n",
    "            partition_np[1:partition_size - 1, 1] = 1\n",
    "        \n",
    "        if skip_idx != 1:\n",
    "            partition_np[1:partition_size - 1, partition_size - 2] = 1\n",
    "        \n",
    "        if skip_idx != 2:\n",
    "            partition_np[1, 1:partition_size - 1] = 1\n",
    "        \n",
    "        if skip_idx != 3:\n",
    "            partition_np[partition_size - 2, 1:partition_size - 1] = 1 \n",
    "\n",
    "# fill spawn area\n",
    "map_np[1:partition_size * 2, 1: partition_size * 2] = 0"
   ]
  },
  {
   "cell_type": "code",
   "execution_count": 13,
   "metadata": {},
   "outputs": [
    {
     "name": "stdout",
     "output_type": "stream",
     "text": [
      "Evaluation score is: 0.668\n"
     ]
    }
   ],
   "source": [
    "# evaluation\n",
    "avgCrossEntropy = evaluate_map(map_np=map_np)\n",
    "print(f\"Evaluation score is: {avgCrossEntropy:.3f}\")"
   ]
  },
  {
   "cell_type": "code",
   "execution_count": 14,
   "metadata": {},
   "outputs": [
    {
     "data": {
      "image/png": "[encoded data removed]",
      "text/plain": [
       "<Figure size 640x480 with 1 Axes>"
      ]
     },
     "metadata": {},
     "output_type": "display_data"
    }
   ],
   "source": [
    "# visualize the map\n",
    "plot_map(map_np=map_np, map_height=map_height,  map_width=map_width)"
   ]
  },
  {
   "cell_type": "code",
   "execution_count": 15,
   "metadata": {},
   "outputs": [],
   "source": [
    "# output map\n",
    "output_map_file(map_np=map_np, file_name=f'u_map_{rng_seed}.txt')\n"
   ]
  }
 ],
 "metadata": {
  "kernelspec": {
   "display_name": "venv",
   "language": "python",
   "name": "python3"
  },
  "language_info": {
   "codemirror_mode": {
    "name": "ipython",
    "version": 3
   },
   "file_extension": ".py",
   "mimetype": "text/x-python",
   "name": "python",
   "nbconvert_exporter": "python",
   "pygments_lexer": "ipython3",
   "version": "3.9.13"
  },
  "orig_nbformat": 4,
  "vscode": {
   "interpreter": {
    "hash": "18dfbb52722a191c5084d327a0c4297d5eab0f32edfc1954967f6b15fe93cd4c"
   }
  }
 },
 "nbformat": 4,
 "nbformat_minor": 2
}
